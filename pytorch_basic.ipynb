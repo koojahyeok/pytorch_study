{
 "cells": [
  {
   "attachments": {},
   "cell_type": "markdown",
   "metadata": {},
   "source": [
    "tensor(텐서) : 파이토치에서 다양한 수식을 계산하는데 사용되는 기본적 자료구조(행렬, 벡터구조)\n",
    "\n",
    "차원 0 : 숫자 1개 => 스칼라\n",
    "\n",
    "차원 1 : 벡터\n",
    "\n",
    "차원 2 : 행렬\n",
    "\n",
    "차원 3이상 : N차원 Tensor"
   ]
  },
  {
   "cell_type": "code",
   "execution_count": 2,
   "metadata": {},
   "outputs": [
    {
     "name": "stdout",
     "output_type": "stream",
     "text": [
      "tensor([[1, 2, 3],\n",
      "        [4, 5, 6],\n",
      "        [7, 8, 9]])\n",
      "Size  torch.Size([3, 3])\n",
      "Shape  torch.Size([3, 3])\n",
      "랭크(차원)  2\n"
     ]
    }
   ],
   "source": [
    "import torch\n",
    "\n",
    "x = torch.tensor([[1, 2, 3], [4, 5, 6], [7, 8, 9]])     # 3x3 텐서 선언\n",
    "print(x)\n",
    "\n",
    "print(\"Size \", x.size())\n",
    "print(\"Shape \", x.shape)\n",
    "print(\"랭크(차원) \", x.ndimension())\n"
   ]
  },
  {
   "cell_type": "code",
   "execution_count": 5,
   "metadata": {},
   "outputs": [
    {
     "name": "stdout",
     "output_type": "stream",
     "text": [
      "tensor([[[1, 2, 3],\n",
      "         [4, 5, 6],\n",
      "         [7, 8, 9]]])\n",
      "Size  torch.Size([1, 3, 3])\n",
      "Shape  torch.Size([1, 3, 3])\n",
      "랭크(차원)  3\n"
     ]
    }
   ],
   "source": [
    "x = torch.unsqueeze(x, 0) #텐서 차원 늘리기\n",
    "print(x)\n",
    "print(\"Size \", x.size())\n",
    "print(\"Shape \", x.shape)\n",
    "print(\"랭크(차원) \", x.ndimension())"
   ]
  },
  {
   "cell_type": "code",
   "execution_count": 6,
   "metadata": {},
   "outputs": [
    {
     "name": "stdout",
     "output_type": "stream",
     "text": [
      "tensor([[1, 2, 3],\n",
      "        [4, 5, 6],\n",
      "        [7, 8, 9]])\n",
      "Size  torch.Size([3, 3])\n",
      "Shape  torch.Size([3, 3])\n",
      "랭크(차원)  2\n"
     ]
    }
   ],
   "source": [
    "x = torch.squeeze(x) #크기가 1인 차원들을 삭제하여 차원 줄이기\n",
    "print(x)\n",
    "print(\"Size \", x.size())\n",
    "print(\"Shape \", x.shape)\n",
    "print(\"랭크(차원) \", x.ndimension())"
   ]
  },
  {
   "cell_type": "code",
   "execution_count": 7,
   "metadata": {},
   "outputs": [
    {
     "name": "stdout",
     "output_type": "stream",
     "text": [
      "tensor([1, 2, 3, 4, 5, 6, 7, 8, 9])\n",
      "Size  torch.Size([9])\n",
      "Shape  torch.Size([9])\n",
      "랭크(차원)  1\n"
     ]
    }
   ],
   "source": [
    "x = x.view(9)       #view를 이용해 직접 모양 변경하기\n",
    "print(x)\n",
    "print(\"Size \", x.size())\n",
    "print(\"Shape \", x.shape)\n",
    "print(\"랭크(차원) \", x.ndimension())"
   ]
  },
  {
   "cell_type": "code",
   "execution_count": 9,
   "metadata": {},
   "outputs": [
    {
     "name": "stdout",
     "output_type": "stream",
     "text": [
      "w size  torch.Size([5, 3])\n",
      "x Size torch.Size([3, 2])\n",
      "w :  tensor([[-0.2550,  0.5773,  0.0249],\n",
      "        [ 0.3048, -0.5923,  0.3582],\n",
      "        [ 1.2129, -1.2982,  0.1708],\n",
      "        [-1.7905,  0.0952, -0.5701],\n",
      "        [ 0.8299, -0.9441, -0.4282]])\n",
      "x :  tensor([[1., 2.],\n",
      "        [3., 4.],\n",
      "        [5., 6.]])\n"
     ]
    }
   ],
   "source": [
    "#텐서간의 행렬 곱\n",
    "w = torch.randn(5,3, dtype = torch.float)\n",
    "x = torch.tensor([[1.0, 2.0], [3.0, 4.0], [5.0, 6.0]])\n",
    "print(\"w size \", w.size())\n",
    "print(\"x Size\", x.size())\n",
    "print('w : ', w)\n",
    "print('x : ', x)"
   ]
  },
  {
   "cell_type": "code",
   "execution_count": 10,
   "metadata": {},
   "outputs": [
    {
     "name": "stdout",
     "output_type": "stream",
     "text": [
      "b Size torch.Size([5, 2])\n",
      "b :  tensor([[-1.8252, -0.2621],\n",
      "        [-1.3364,  0.9422],\n",
      "        [-0.5692,  1.7633],\n",
      "        [-0.5530, -0.5614],\n",
      "        [ 0.0945, -0.4804]])\n"
     ]
    }
   ],
   "source": [
    "b = torch.randn(5,2, dtype = torch.float)\n",
    "print(\"b Size\", b.size())\n",
    "print('b : ', b)"
   ]
  },
  {
   "cell_type": "code",
   "execution_count": 11,
   "metadata": {},
   "outputs": [
    {
     "name": "stdout",
     "output_type": "stream",
     "text": [
      "wx size:  torch.Size([5, 2])\n",
      "wx :  tensor([[ 1.6014,  1.9485],\n",
      "        [ 0.3189,  0.3896],\n",
      "        [-1.8277, -1.7422],\n",
      "        [-4.3552, -6.6206],\n",
      "        [-4.1433, -4.6857]])\n"
     ]
    }
   ],
   "source": [
    "wx = torch.mm(w, x) #행렬곱\n",
    "print(\"wx size: \", wx.size())\n",
    "print(\"wx : \", wx)"
   ]
  },
  {
   "cell_type": "code",
   "execution_count": 12,
   "metadata": {},
   "outputs": [
    {
     "name": "stdout",
     "output_type": "stream",
     "text": [
      "result size:  torch.Size([5, 2])\n",
      "result :  tensor([[-0.2238,  1.6864],\n",
      "        [-1.0175,  1.3318],\n",
      "        [-2.3969,  0.0212],\n",
      "        [-4.9082, -7.1819],\n",
      "        [-4.0488, -5.1661]])\n"
     ]
    }
   ],
   "source": [
    "result = wx + b\n",
    "print(\"result size: \", result.size())\n",
    "print(\"result : \", result)"
   ]
  }
 ],
 "metadata": {
  "kernelspec": {
   "display_name": "tensorStudy",
   "language": "python",
   "name": "python3"
  },
  "language_info": {
   "codemirror_mode": {
    "name": "ipython",
    "version": 3
   },
   "file_extension": ".py",
   "mimetype": "text/x-python",
   "name": "python",
   "nbconvert_exporter": "python",
   "pygments_lexer": "ipython3",
   "version": "3.7.0"
  },
  "orig_nbformat": 4
 },
 "nbformat": 4,
 "nbformat_minor": 2
}
