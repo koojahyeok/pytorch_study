{
  "nbformat": 4,
  "nbformat_minor": 0,
  "metadata": {
    "colab": {
      "provenance": [],
      "gpuType": "T4",
      "authorship_tag": "ABX9TyNxRcF9fRXpkI5CmEP4299P",
      "include_colab_link": true
    },
    "kernelspec": {
      "name": "python3",
      "display_name": "Python 3"
    },
    "language_info": {
      "name": "python"
    },
    "accelerator": "GPU"
  },
  "cells": [
    {
      "cell_type": "markdown",
      "metadata": {
        "id": "view-in-github",
        "colab_type": "text"
      },
      "source": [
        "<a href=\"https://colab.research.google.com/github/koojahyeok/pytorch_study/blob/main/Supervised_learning.ipynb\" target=\"_parent\"><img src=\"https://colab.research.google.com/assets/colab-badge.svg\" alt=\"Open In Colab\"/></a>"
      ]
    },
    {
      "cell_type": "code",
      "execution_count": 1,
      "metadata": {
        "id": "W0PEh3FFWzPH"
      },
      "outputs": [],
      "source": [
        "import torch\n",
        "import numpy as np\n",
        "from sklearn.datasets import make_blobs\n",
        "import matplotlib.pyplot as plt"
      ]
    },
    {
      "cell_type": "code",
      "source": [
        "# 2차원 벡터\n",
        "n_dim = 2\n",
        "\n",
        "# make_blobs () 함수가 만들어내는 레이블 데이터는 각 데이터 한 점, 한 점이 몇 번째 클러스터에 속해 있는지 알려주는 인덱스로,\n",
        "# 본 예제에서는 총 4개의 클러스터(0, 1, 2, 3)을 만들어 각 데이터는 모두 라벨링 되어 있다.\n",
        "\n",
        "# 학습을 위한 데이터셋 (80개)\n",
        "x_train, y_train = make_blobs(n_samples=80, n_features=n_dim, centers=[[1,1],[-1,-1],[1,-1],[-1,1]], shuffle=True, cluster_std=0.3)\n",
        "\n",
        "print(x_train)\n",
        "print(len(x_train))\n",
        "print('============')\n",
        "print(y_train)\n",
        "\n",
        "# 평가를 위한 데이터셋 (20개)\n",
        "x_test, y_test = make_blobs(n_samples=20, n_features=n_dim, centers=[[1,1],[-1,-1],[1,-1],[-1,1]], shuffle=True, cluster_std=0.3)"
      ],
      "metadata": {
        "id": "yzUHe2B1XB5q",
        "colab": {
          "base_uri": "https://localhost:8080/"
        },
        "outputId": "1a940b08-09be-42bd-ff54-c83ef80a9f73"
      },
      "execution_count": 2,
      "outputs": [
        {
          "output_type": "stream",
          "name": "stdout",
          "text": [
            "[[ 1.55039539  0.8061335 ]\n",
            " [-0.85341345 -0.68366339]\n",
            " [ 0.8391078   1.43444766]\n",
            " [ 0.72029972 -1.35723451]\n",
            " [-1.81413866  1.344213  ]\n",
            " [-1.08767409  1.10945951]\n",
            " [ 1.34626261 -0.82187394]\n",
            " [-1.47397837 -1.05340808]\n",
            " [-0.99019138  1.0601727 ]\n",
            " [-0.95049802 -0.74126946]\n",
            " [ 1.61442768 -0.92913257]\n",
            " [ 1.17771459  0.76121155]\n",
            " [-0.64585872 -1.52620137]\n",
            " [ 0.54690584 -1.33422128]\n",
            " [-1.35191583 -1.32540288]\n",
            " [-1.61127758 -1.38200831]\n",
            " [ 0.92238205  1.18089706]\n",
            " [ 0.63004025  1.26307091]\n",
            " [ 0.35551199 -0.56592339]\n",
            " [ 1.07220555 -1.53657741]\n",
            " [-1.12232347 -1.011521  ]\n",
            " [ 1.32970515  0.32437411]\n",
            " [-0.54749532  0.67489513]\n",
            " [ 0.53956002  1.14225571]\n",
            " [-1.28623405  0.96253423]\n",
            " [ 0.56022923  0.94473031]\n",
            " [ 0.94223565 -1.20412493]\n",
            " [-1.02505846 -1.19761767]\n",
            " [-0.98726069 -0.37476962]\n",
            " [-0.63107473  0.53619129]\n",
            " [ 0.94977236  1.09964965]\n",
            " [-0.96288392 -0.97809527]\n",
            " [ 0.8466154   1.20349666]\n",
            " [ 1.38812193 -1.1725102 ]\n",
            " [-1.10529712 -0.83448686]\n",
            " [-0.72618375 -1.36726384]\n",
            " [ 0.70773504 -1.21314477]\n",
            " [ 1.28838507  1.01221359]\n",
            " [-1.09015396  1.30347954]\n",
            " [ 1.04793059 -1.03693991]\n",
            " [ 0.9387312  -0.71235162]\n",
            " [ 0.42151818  0.94190052]\n",
            " [-0.32583766 -0.68822886]\n",
            " [-0.94417833  0.58155019]\n",
            " [ 1.46520188  1.09248141]\n",
            " [-0.56915142  0.92236735]\n",
            " [-1.4791282   1.16628241]\n",
            " [-1.26671219 -1.08783984]\n",
            " [ 0.83087494  0.51851   ]\n",
            " [ 1.30328996 -0.81268283]\n",
            " [-0.98336728  1.25157044]\n",
            " [ 0.47255342 -1.23566591]\n",
            " [-1.13921871  1.03985864]\n",
            " [-1.31433108 -1.19649567]\n",
            " [ 0.25157355  0.63284181]\n",
            " [-1.04046109  1.07921133]\n",
            " [-1.24032521 -0.71808038]\n",
            " [ 0.78187857  0.62741457]\n",
            " [ 0.71238503  1.1391787 ]\n",
            " [ 0.75929399 -0.72260384]\n",
            " [-0.77182696 -0.62972942]\n",
            " [ 0.8041963  -0.99810505]\n",
            " [-0.69487122 -1.38041795]\n",
            " [-1.10085123  1.38177594]\n",
            " [-0.94249214  0.19207378]\n",
            " [-0.72183182 -1.31663505]\n",
            " [ 0.80978092 -1.16110842]\n",
            " [-1.11758435  0.94042687]\n",
            " [-0.66035783  0.94837972]\n",
            " [ 1.07050205 -0.91949761]\n",
            " [ 1.14703993  0.55257167]\n",
            " [ 0.60366458 -1.06932841]\n",
            " [-1.74435727 -0.4589983 ]\n",
            " [ 0.94267193  0.64359824]\n",
            " [-0.95426613  1.60428887]\n",
            " [ 1.31460699 -0.66524381]\n",
            " [-1.08697866  1.28862393]\n",
            " [ 0.8948956   1.06304949]\n",
            " [-0.5143468   1.16347888]\n",
            " [ 1.4300973  -1.20277425]]\n",
            "80\n",
            "============\n",
            "[0 1 0 2 3 3 2 1 3 1 2 0 1 2 1 1 0 0 2 2 1 0 3 0 3 0 2 1 1 3 0 1 0 2 1 1 2\n",
            " 0 3 2 2 0 1 3 0 3 3 1 0 2 3 2 3 1 0 3 1 0 0 2 1 2 1 3 3 1 2 3 3 2 0 2 1 0\n",
            " 3 2 3 0 3 2]\n"
          ]
        }
      ]
    },
    {
      "cell_type": "code",
      "source": [
        "# 상단에 구현한 4개의 라벨을 2개의 라벨로 합쳐서 간단하게 0, 1로만 구분할 수 있도록 추가적인 함수를 구현\n",
        "# 0 or 1일 경우엔 0 / 2 or 3일 경우엔 1로 맵핑\n",
        "def label_map(y_, from_, to_):\n",
        "    y = np.copy(y_)\n",
        "    for f in from_:\n",
        "        y[y_ == f] = to_\n",
        "    return y\n",
        "\n",
        "y_train = label_map(y_train, [0, 1], 0)\n",
        "y_train = label_map(y_train, [2, 3], 1)\n",
        "y_test = label_map(y_test, [0, 1], 0)\n",
        "y_test = label_map(y_test, [2, 3], 1)\n",
        "\n",
        "\n",
        "print(x_train)\n",
        "print(len(x_train))\n",
        "print('============')\n",
        "print(y_train)"
      ],
      "metadata": {
        "id": "bKvanprxYTvh",
        "colab": {
          "base_uri": "https://localhost:8080/"
        },
        "outputId": "797dc8ad-1cc1-48e4-e6a0-9c5af91b7c99"
      },
      "execution_count": 3,
      "outputs": [
        {
          "output_type": "stream",
          "name": "stdout",
          "text": [
            "[[ 1.55039539  0.8061335 ]\n",
            " [-0.85341345 -0.68366339]\n",
            " [ 0.8391078   1.43444766]\n",
            " [ 0.72029972 -1.35723451]\n",
            " [-1.81413866  1.344213  ]\n",
            " [-1.08767409  1.10945951]\n",
            " [ 1.34626261 -0.82187394]\n",
            " [-1.47397837 -1.05340808]\n",
            " [-0.99019138  1.0601727 ]\n",
            " [-0.95049802 -0.74126946]\n",
            " [ 1.61442768 -0.92913257]\n",
            " [ 1.17771459  0.76121155]\n",
            " [-0.64585872 -1.52620137]\n",
            " [ 0.54690584 -1.33422128]\n",
            " [-1.35191583 -1.32540288]\n",
            " [-1.61127758 -1.38200831]\n",
            " [ 0.92238205  1.18089706]\n",
            " [ 0.63004025  1.26307091]\n",
            " [ 0.35551199 -0.56592339]\n",
            " [ 1.07220555 -1.53657741]\n",
            " [-1.12232347 -1.011521  ]\n",
            " [ 1.32970515  0.32437411]\n",
            " [-0.54749532  0.67489513]\n",
            " [ 0.53956002  1.14225571]\n",
            " [-1.28623405  0.96253423]\n",
            " [ 0.56022923  0.94473031]\n",
            " [ 0.94223565 -1.20412493]\n",
            " [-1.02505846 -1.19761767]\n",
            " [-0.98726069 -0.37476962]\n",
            " [-0.63107473  0.53619129]\n",
            " [ 0.94977236  1.09964965]\n",
            " [-0.96288392 -0.97809527]\n",
            " [ 0.8466154   1.20349666]\n",
            " [ 1.38812193 -1.1725102 ]\n",
            " [-1.10529712 -0.83448686]\n",
            " [-0.72618375 -1.36726384]\n",
            " [ 0.70773504 -1.21314477]\n",
            " [ 1.28838507  1.01221359]\n",
            " [-1.09015396  1.30347954]\n",
            " [ 1.04793059 -1.03693991]\n",
            " [ 0.9387312  -0.71235162]\n",
            " [ 0.42151818  0.94190052]\n",
            " [-0.32583766 -0.68822886]\n",
            " [-0.94417833  0.58155019]\n",
            " [ 1.46520188  1.09248141]\n",
            " [-0.56915142  0.92236735]\n",
            " [-1.4791282   1.16628241]\n",
            " [-1.26671219 -1.08783984]\n",
            " [ 0.83087494  0.51851   ]\n",
            " [ 1.30328996 -0.81268283]\n",
            " [-0.98336728  1.25157044]\n",
            " [ 0.47255342 -1.23566591]\n",
            " [-1.13921871  1.03985864]\n",
            " [-1.31433108 -1.19649567]\n",
            " [ 0.25157355  0.63284181]\n",
            " [-1.04046109  1.07921133]\n",
            " [-1.24032521 -0.71808038]\n",
            " [ 0.78187857  0.62741457]\n",
            " [ 0.71238503  1.1391787 ]\n",
            " [ 0.75929399 -0.72260384]\n",
            " [-0.77182696 -0.62972942]\n",
            " [ 0.8041963  -0.99810505]\n",
            " [-0.69487122 -1.38041795]\n",
            " [-1.10085123  1.38177594]\n",
            " [-0.94249214  0.19207378]\n",
            " [-0.72183182 -1.31663505]\n",
            " [ 0.80978092 -1.16110842]\n",
            " [-1.11758435  0.94042687]\n",
            " [-0.66035783  0.94837972]\n",
            " [ 1.07050205 -0.91949761]\n",
            " [ 1.14703993  0.55257167]\n",
            " [ 0.60366458 -1.06932841]\n",
            " [-1.74435727 -0.4589983 ]\n",
            " [ 0.94267193  0.64359824]\n",
            " [-0.95426613  1.60428887]\n",
            " [ 1.31460699 -0.66524381]\n",
            " [-1.08697866  1.28862393]\n",
            " [ 0.8948956   1.06304949]\n",
            " [-0.5143468   1.16347888]\n",
            " [ 1.4300973  -1.20277425]]\n",
            "80\n",
            "============\n",
            "[0 0 0 1 1 1 1 0 1 0 1 0 0 1 0 0 0 0 1 1 0 0 1 0 1 0 1 0 0 1 0 0 0 1 0 0 1\n",
            " 0 1 1 1 0 0 1 0 1 1 0 0 1 1 1 1 0 0 1 0 0 0 1 0 1 0 1 1 0 1 1 1 1 0 1 0 0\n",
            " 1 1 1 0 1 1]\n"
          ]
        }
      ]
    },
    {
      "cell_type": "code",
      "source": [
        "def vis_data(x, y = None, c = 'r'):\n",
        "    if y is None:\n",
        "        y = [None] * len(X)\n",
        "    for x_, y_ in zip(x,y):\n",
        "        if y_ is None:\n",
        "            plt.plot(x_[0], x_[1], '*',markerfacecolor='none', markeredgecolor=c)\n",
        "        else:\n",
        "            plt.plot(x_[0], x_[1], c+'o' if y_ ==0 else c+'+')\n",
        "\n",
        "plt.figure()\n",
        "vis_data(x_train, y_train, c='r')\n",
        "plt.show()"
      ],
      "metadata": {
        "id": "GXjG_yrWnGmA",
        "colab": {
          "base_uri": "https://localhost:8080/",
          "height": 430
        },
        "outputId": "00427c2a-ef2f-4090-b559-7a8bfb5884b7"
      },
      "execution_count": 4,
      "outputs": [
        {
          "output_type": "display_data",
          "data": {
            "text/plain": [
              "<Figure size 640x480 with 1 Axes>"
            ],
            "image/png": "[encoded data removed]"
          },
          "metadata": {}
        }
      ]
    },
    {
      "cell_type": "code",
      "source": [
        "x_train = torch.FloatTensor(x_train)\n",
        "print(x_train.shape)\n",
        "x_test = torch.FloatTensor(x_test)\n",
        "y_train = torch.FloatTensor(y_train)\n",
        "y_test = torch.FloatTensor(y_test)"
      ],
      "metadata": {
        "colab": {
          "base_uri": "https://localhost:8080/"
        },
        "id": "vJcwmngW-zXr",
        "outputId": "b59d4d74-2f9f-45cf-ee7a-d3fe29d17803"
      },
      "execution_count": 5,
      "outputs": [
        {
          "output_type": "stream",
          "name": "stdout",
          "text": [
            "torch.Size([80, 2])\n"
          ]
        }
      ]
    },
    {
      "cell_type": "code",
      "source": [
        "#신경망 구축\n",
        "class NeuralNet(torch.nn.Module):\n",
        "    def __init__(self, input_size, hidden_size):\n",
        "        super(NeuralNet, self).__init__()       #NeuralNet 클래스가 nn.module의 속성을 갖고 초기화된다\n",
        "        self.input_size = input_size            #입력데이터 차원\n",
        "        self.hidden_size = hidden_size          #linear layer 내 은닉 유닛 개수\n",
        "        self.linear_1 = torch.nn.Linear(self.input_size, self.hidden_size)  #torch.nn.Linear는 bias와 행렬곱을 포함한 연산을 지원할 수 있는 Linear Layer반환\n",
        "        self.relu = torch.nn.ReLU()     #activation function ReLU 선언\n",
        "        self.linear_2 = torch.nn.Linear(self.hidden_size, 1)\n",
        "        self.sigmoid = torch.nn.Sigmoid()   #activation function Sigmoid 선언\n",
        "\n",
        "    def forward(self, input_tensor):        #네트워크 거칠 때 사용되는 함수\n",
        "        #linear 1 : [input_size, hidden_size] 크기의 가중치(weight)를 행렬곱 하고, bias를 터해 [1, hidden_size꼴의 텐서를 반환]\n",
        "        linear1 = self.linear_1(input_tensor)\n",
        "\n",
        "        #ReLU 함수 적용 -> 입력 값이 0보다 작으면 0, 그이상이면 그대로 출력\n",
        "        relu = self.relu(linear1)\n",
        "\n",
        "        #ReLU 거친 후 linear_2를 거치면서 [1,1 ]사이즈로 반환\n",
        "        linear2 = self.linear_2(relu)\n",
        "\n",
        "        #sigmoid 함수를 거쳐서 0~1 사이를 반환\n",
        "        #최종적으로 이 데이터가 0 or 1 중 어느쪽에 더 가까운지 판별\n",
        "        output = self.sigmoid(linear2)\n",
        "        return output\n"
      ],
      "metadata": {
        "id": "kAnF0XSc_Am0"
      },
      "execution_count": 6,
      "outputs": []
    },
    {
      "cell_type": "code",
      "source": [
        "#학습에 필수적인 변수, 알고리즘 정의\n",
        "\n",
        "#input size를 2, hidden_size를 5로 설정한 객체 선언\n",
        "model = NeuralNet(2, 5)\n",
        "\n",
        "learning_rate = 0.03\n",
        "#Binary Cross Entropy loss함수를 Loss function으로 적용\n",
        "criterion = torch.nn.BCELoss()\n",
        "\n",
        "#전체 학습 데이터를 총 몇번 모델에 입력할지 결정\n",
        "epochs = 2000\n",
        "\n",
        "#Optimizer를 SGD로 설정\n",
        "#Step()함수를 부를 때마다 가중치를 학습률만큼 갱신\n",
        "#model.parameter()함수로 추출한 모델 내의 weight, lerning rate 입력\n",
        "optimizer = torch.optim.SGD(model.parameters(), lr = learning_rate)"
      ],
      "metadata": {
        "id": "yRdkdxQ-B2qK"
      },
      "execution_count": 7,
      "outputs": []
    },
    {
      "cell_type": "code",
      "source": [
        "model.eval()    #아무런 학습을 진행하지 않았을 때의 성능 테스트\n",
        "\n",
        "#x_test(모델의 결과갑)와 y_test(실제 레이블 값) 간의 차원을 동일하게 하기 위해서 squeeze()함수 사용\n",
        "test_loss_before = criterion(model(x_test).squeeze(), y_test)\n",
        "\n",
        "print('Before Training, test loss is {}'.format(test_loss_before.item()))       #스칼라 형태로 출력하기 위해 .item"
      ],
      "metadata": {
        "colab": {
          "base_uri": "https://localhost:8080/"
        },
        "id": "WmGszZwMCm1P",
        "outputId": "88991760-9291-4eed-c9df-5f5e85320ece"
      },
      "execution_count": 8,
      "outputs": [
        {
          "output_type": "stream",
          "name": "stdout",
          "text": [
            "Before Training, test loss is 0.7007168531417847\n"
          ]
        }
      ]
    },
    {
      "cell_type": "code",
      "source": [
        "for epoch in range(epochs): #epochs만큼 도는 함수\n",
        "    model.train()\n",
        "\n",
        "    optimizer.zero_grad()   #epoch마다 새로운 gradient 계산을 위해 gradient를 0으로 설정\n",
        "\n",
        "    train_output = model(x_train)       #실제 학습 데이터를 입력하여 결과값 계산, 이 때 실행되는 함수는 NeuralNet에서 정의한 foward함수\n",
        "                                        #nn.module이 알아서 foward계산\n",
        "\n",
        "    train_loss = criterion(train_output.squeeze(), y_train)\n",
        "\n",
        "    if epoch % 100 == 0:                #100 epoch마다 학습이 잘 되가는지 체크하는 함수\n",
        "        print('train loss at {} is {}'.format(epoch, train_loss.item()))\n",
        "\n",
        "    train_loss.backward()           #오차함수를 gradient로 미분해서 오차가 최소가 되는 행렬 구함\n",
        "    optimizer.step()               #그 방향으로 모델을 학습률 만큼 이동 => backpropagation"
      ],
      "metadata": {
        "colab": {
          "base_uri": "https://localhost:8080/"
        },
        "id": "kUAuHKbxeuSs",
        "outputId": "01707cd7-1124-4173-cde0-05e5291f5a45"
      },
      "execution_count": 9,
      "outputs": [
        {
          "output_type": "stream",
          "name": "stdout",
          "text": [
            "train loss at 0 is 0.6976303458213806\n",
            "train loss at 100 is 0.6337346434593201\n",
            "train loss at 200 is 0.5856256484985352\n",
            "train loss at 300 is 0.5400202870368958\n",
            "train loss at 400 is 0.4974837303161621\n",
            "train loss at 500 is 0.4577556252479553\n",
            "train loss at 600 is 0.4201769232749939\n",
            "train loss at 700 is 0.38467103242874146\n",
            "train loss at 800 is 0.3515738844871521\n",
            "train loss at 900 is 0.32172054052352905\n",
            "train loss at 1000 is 0.29532894492149353\n",
            "train loss at 1100 is 0.2718915343284607\n",
            "train loss at 1200 is 0.2510256767272949\n",
            "train loss at 1300 is 0.2325328141450882\n",
            "train loss at 1400 is 0.21621179580688477\n",
            "train loss at 1500 is 0.20187485218048096\n",
            "train loss at 1600 is 0.1892791986465454\n",
            "train loss at 1700 is 0.17821472883224487\n",
            "train loss at 1800 is 0.1684945672750473\n",
            "train loss at 1900 is 0.160055011510849\n"
          ]
        }
      ]
    },
    {
      "cell_type": "code",
      "source": [
        "#학습결과 테스트\n",
        "model.eval()\n",
        "test_loss = criterion(torch.squeeze(model(x_test)), y_test)\n",
        "print('After training, test loss is {}'.format(test_loss.item()))"
      ],
      "metadata": {
        "colab": {
          "base_uri": "https://localhost:8080/"
        },
        "id": "RL0b41qwgJJS",
        "outputId": "bb4c6d08-a4cc-4c24-d90a-93a444c5a0c2"
      },
      "execution_count": 10,
      "outputs": [
        {
          "output_type": "stream",
          "name": "stdout",
          "text": [
            "After training, test loss is 0.11611980199813843\n"
          ]
        }
      ]
    },
    {
      "cell_type": "code",
      "source": [
        "torch.save(model.state_dict(), './model.pt')    #이형태로 학습된 모델 저장하여 사용 가능\n",
        "print('state_dict format of the model: {}'.format(model.state_dict()))\n",
        "#state_dict는 모델 내 가중치를 dictionary 형태로 가중치 텐서와 편향 텐서를 저장한 데이터"
      ],
      "metadata": {
        "colab": {
          "base_uri": "https://localhost:8080/"
        },
        "id": "8Zner1y4gefT",
        "outputId": "e36f19ca-9918-4f4b-9ffc-6edc27dc6359"
      },
      "execution_count": 11,
      "outputs": [
        {
          "output_type": "stream",
          "name": "stdout",
          "text": [
            "state_dict format of the model: OrderedDict([('linear_1.weight', tensor([[ 1.5443, -1.6185],\n",
            "        [ 0.9311, -0.9749],\n",
            "        [ 0.4322,  0.1397],\n",
            "        [ 1.3762, -1.4406],\n",
            "        [ 1.1602, -1.2260]])), ('linear_1.bias', tensor([-0.3544, -0.2097, -0.7859, -0.3093,  2.0164])), ('linear_2.weight', tensor([[ 2.0939,  1.3765,  0.2169,  1.9548, -2.4366]])), ('linear_2.bias', tensor([1.5122]))])\n"
          ]
        }
      ]
    },
    {
      "cell_type": "code",
      "source": [
        "new_model = NeuralNet(2,5)\n",
        "new_model.load_state_dict(torch.load('./model.pt'))\n",
        "new_model.eval()\n",
        "print('벡터 [-1, 1]이 레이블 1을 가질 확률은 {}'.format(new_model(torch.FloatTensor([-1, 1])).item()))"
      ],
      "metadata": {
        "colab": {
          "base_uri": "https://localhost:8080/"
        },
        "id": "N3Y68-sCg2Ec",
        "outputId": "f67af883-505e-4dca-de36-1801282160a0"
      },
      "execution_count": 12,
      "outputs": [
        {
          "output_type": "stream",
          "name": "stdout",
          "text": [
            "벡터 [-1, 1]이 레이블 1을 가질 확률은 0.8193830847740173\n"
          ]
        }
      ]
    }
  ]
}